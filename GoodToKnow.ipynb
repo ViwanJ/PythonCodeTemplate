{
 "cells": [
  {
   "cell_type": "markdown",
   "metadata": {},
   "source": [
    "# This is good to know stuffs.\n",
    "There are many small techniques that can speed up code(s). "
   ]
  },
  {
   "cell_type": "markdown",
   "metadata": {},
   "source": [
    "### Import library"
   ]
  },
  {
   "cell_type": "code",
   "execution_count": 58,
   "metadata": {
    "collapsed": true
   },
   "outputs": [],
   "source": [
    "import numpy as np\n",
    "import timeit\n",
    "from sys import getsizeof"
   ]
  },
  {
   "cell_type": "markdown",
   "metadata": {},
   "source": [
    "## Summation operation: For loop or Numpy function "
   ]
  },
  {
   "cell_type": "markdown",
   "metadata": {},
   "source": [
    "### Setup random data "
   ]
  },
  {
   "cell_type": "code",
   "execution_count": 6,
   "metadata": {
    "collapsed": false
   },
   "outputs": [],
   "source": [
    "n = 10000\n",
    "a_list = [np.random.randint(0,1000) for i in range(n)]\n",
    "a_array = np.array(a_list)"
   ]
  },
  {
   "cell_type": "code",
   "execution_count": 7,
   "metadata": {
    "collapsed": false
   },
   "outputs": [
    {
     "name": "stdout",
     "output_type": "stream",
     "text": [
      "<type 'list'>\n",
      "<type 'numpy.ndarray'>\n"
     ]
    }
   ],
   "source": [
    "print type(a_list)\n",
    "print type(a_array)"
   ]
  },
  {
   "cell_type": "code",
   "execution_count": 35,
   "metadata": {
    "collapsed": false
   },
   "outputs": [
    {
     "name": "stdout",
     "output_type": "stream",
     "text": [
      "The slowest run took 8.12 times longer than the fastest. This could mean that an intermediate result is being cached \n",
      "100000 loops, best of 3: 5.17 µs per loop\n"
     ]
    }
   ],
   "source": [
    "%timeit a_array.sum()"
   ]
  },
  {
   "cell_type": "code",
   "execution_count": 25,
   "metadata": {
    "collapsed": false
   },
   "outputs": [
    {
     "name": "stdout",
     "output_type": "stream",
     "text": [
      "1000 loops, best of 3: 539 µs per loop\n"
     ]
    }
   ],
   "source": [
    "%%timeit \n",
    "total = 0\n",
    "for i in range(len(a_list)) :\n",
    "    total =+ a_list[i]"
   ]
  },
  {
   "cell_type": "markdown",
   "metadata": {},
   "source": [
    "### Check if both methods give the same answer"
   ]
  },
  {
   "cell_type": "code",
   "execution_count": 34,
   "metadata": {
    "collapsed": false
   },
   "outputs": [
    {
     "name": "stdout",
     "output_type": "stream",
     "text": [
      "\n",
      "The summation of a_array is 5001495\n",
      "\n",
      "The summation of a_list is 5001495\n"
     ]
    },
    {
     "data": {
      "text/plain": [
       "True"
      ]
     },
     "execution_count": 34,
     "metadata": {},
     "output_type": "execute_result"
    }
   ],
   "source": [
    "total = 0\n",
    "for i in range(len(a_list)) :\n",
    "    total += a_list[i]\n",
    "print \"\\nThe summation of a_array is\" , a_array.sum()\n",
    "print \"\\nThe summation of a_list is\" , total\n",
    "a_array.sum() == total"
   ]
  },
  {
   "cell_type": "markdown",
   "metadata": {},
   "source": [
    "## Add a data point into a List or Array"
   ]
  },
  {
   "cell_type": "code",
   "execution_count": 48,
   "metadata": {
    "collapsed": true
   },
   "outputs": [],
   "source": [
    "point = [1,2,3]\n",
    "n = 10000\n",
    "data_array = np.ones([n,3])\n",
    "data_list = data_array.tolist()"
   ]
  },
  {
   "cell_type": "code",
   "execution_count": 49,
   "metadata": {
    "collapsed": false
   },
   "outputs": [
    {
     "name": "stdout",
     "output_type": "stream",
     "text": [
      "<type 'numpy.ndarray'>\n",
      "<type 'list'>\n"
     ]
    }
   ],
   "source": [
    "print type(data_array)\n",
    "print type(data_list)"
   ]
  },
  {
   "cell_type": "code",
   "execution_count": 50,
   "metadata": {
    "collapsed": false
   },
   "outputs": [
    {
     "name": "stdout",
     "output_type": "stream",
     "text": [
      "(10000, 3)\n",
      "10000 3\n"
     ]
    }
   ],
   "source": [
    "print data_array.shape\n",
    "print len(data_list), len(data_list[0])"
   ]
  },
  {
   "cell_type": "code",
   "execution_count": 51,
   "metadata": {
    "collapsed": false
   },
   "outputs": [
    {
     "name": "stdout",
     "output_type": "stream",
     "text": [
      "The slowest run took 5.83 times longer than the fastest. This could mean that an intermediate result is being cached \n",
      "10000 loops, best of 3: 21.6 µs per loop\n"
     ]
    }
   ],
   "source": [
    "%timeit np.vstack([data_array,point])"
   ]
  },
  {
   "cell_type": "code",
   "execution_count": 52,
   "metadata": {
    "collapsed": false
   },
   "outputs": [
    {
     "name": "stdout",
     "output_type": "stream",
     "text": [
      "The slowest run took 22.10 times longer than the fastest. This could mean that an intermediate result is being cached \n",
      "10000000 loops, best of 3: 97.1 ns per loop\n"
     ]
    }
   ],
   "source": [
    "%timeit data_list.append(point)"
   ]
  },
  {
   "cell_type": "markdown",
   "metadata": {},
   "source": [
    "### Check if both methods give the same answer"
   ]
  },
  {
   "cell_type": "code",
   "execution_count": 108,
   "metadata": {
    "collapsed": false
   },
   "outputs": [
    {
     "name": "stdout",
     "output_type": "stream",
     "text": [
      "100001 3\n",
      "(100001, 3)\n"
     ]
    }
   ],
   "source": [
    "data_list = data_array.tolist()\n",
    "data_list.append(point)\n",
    "print len(data_list), len(data_list[0])\n",
    "print np.vstack([data_array,point]).shape"
   ]
  },
  {
   "cell_type": "markdown",
   "metadata": {},
   "source": [
    "**List is faster** when adding a point of data in it, **BUT** list use larger amout of RAM compared to Numpy array, see http://www.draketo.de/english/python-memory-numpy-list-array.  "
   ]
  }
 ],
 "metadata": {
  "kernelspec": {
   "display_name": "Python 2",
   "language": "python",
   "name": "python2"
  },
  "language_info": {
   "codemirror_mode": {
    "name": "ipython",
    "version": 2
   },
   "file_extension": ".py",
   "mimetype": "text/x-python",
   "name": "python",
   "nbconvert_exporter": "python",
   "pygments_lexer": "ipython2",
   "version": "2.7.10"
  }
 },
 "nbformat": 4,
 "nbformat_minor": 2
}
